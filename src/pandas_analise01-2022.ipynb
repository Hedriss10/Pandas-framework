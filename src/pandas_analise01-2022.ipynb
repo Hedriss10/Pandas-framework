{
 "cells": [
  {
   "cell_type": "code",
   "execution_count": null,
   "metadata": {},
   "outputs": [],
   "source": [
    "import pandas as pd"
   ]
  }
 ],
 "metadata": {
  "kernelspec": {
   "display_name": "Python 3.10.6 ('env': venv)",
   "language": "python",
   "name": "python3"
  },
  "language_info": {
   "name": "python",
   "version": "3.10.6"
  },
  "orig_nbformat": 4,
  "vscode": {
   "interpreter": {
    "hash": "3033050cd1e76473e63577fbaa2bcb6272e1937e3b8439fa720d7e6fd1e078f3"
   }
  }
 },
 "nbformat": 4,
 "nbformat_minor": 2
}
