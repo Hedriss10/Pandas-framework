{
 "cells": [
  {
   "cell_type": "code",
   "execution_count": 1,
   "metadata": {},
   "outputs": [],
   "source": [
    "import pandas as pd "
   ]
  },
  {
   "cell_type": "code",
   "execution_count": 4,
   "metadata": {},
   "outputs": [
    {
     "data": {
      "text/plain": [
       "0     d\n",
       "1     s\n",
       "2     d\n",
       "3     u\n",
       "4     i\n",
       "5     a\n",
       "6     h\n",
       "7     e\n",
       "8     u\n",
       "9     w\n",
       "10    q\n",
       "11    d\n",
       "12    u\n",
       "13    w\n",
       "14    q\n",
       "15    n\n",
       "16    d\n",
       "17    n\n",
       "18    s\n",
       "19    a\n",
       "20    j\n",
       "21    d\n",
       "22    n\n",
       "23    a\n",
       "dtype: object"
      ]
     },
     "execution_count": 4,
     "metadata": {},
     "output_type": "execute_result"
    }
   ],
   "source": [
    "s =  pd.Series(list(\"dsduiaheuwqduwqndnsajdna\"))\n",
    "s"
   ]
  },
  {
   "cell_type": "code",
   "execution_count": 5,
   "metadata": {},
   "outputs": [
    {
     "data": {
      "text/plain": [
       "array(['d', 's', 'u', 'i', 'a', 'h', 'e', 'w', 'q', 'n', 'j'],\n",
       "      dtype=object)"
      ]
     },
     "execution_count": 5,
     "metadata": {},
     "output_type": "execute_result"
    }
   ],
   "source": [
    "s.unique()"
   ]
  },
  {
   "cell_type": "code",
   "execution_count": 6,
   "metadata": {},
   "outputs": [
    {
     "data": {
      "text/plain": [
       "d    5\n",
       "u    3\n",
       "a    3\n",
       "n    3\n",
       "s    2\n",
       "w    2\n",
       "q    2\n",
       "i    1\n",
       "h    1\n",
       "e    1\n",
       "j    1\n",
       "dtype: int64"
      ]
     },
     "execution_count": 6,
     "metadata": {},
     "output_type": "execute_result"
    }
   ],
   "source": [
    "s.value_counts()"
   ]
  }
 ],
 "metadata": {
  "kernelspec": {
   "display_name": "Python 3.10.6 ('env': venv)",
   "language": "python",
   "name": "python3"
  },
  "language_info": {
   "codemirror_mode": {
    "name": "ipython",
    "version": 3
   },
   "file_extension": ".py",
   "mimetype": "text/x-python",
   "name": "python",
   "nbconvert_exporter": "python",
   "pygments_lexer": "ipython3",
   "version": "3.10.6"
  },
  "orig_nbformat": 4,
  "vscode": {
   "interpreter": {
    "hash": "3033050cd1e76473e63577fbaa2bcb6272e1937e3b8439fa720d7e6fd1e078f3"
   }
  }
 },
 "nbformat": 4,
 "nbformat_minor": 2
}
